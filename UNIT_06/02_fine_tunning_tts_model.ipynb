{
 "cells": [
  {
   "cell_type": "markdown",
   "id": "65ada863",
   "metadata": {},
   "source": [
    "### Fine-tuning SpeechT5\n",
    "\n",
    "Now that you are familiar with the text-to-speech task and internal workings of the SpeechT5 model that was pre-trained on English language data, let’s see how we can fine-tune it to another language."
   ]
  },
  {
   "cell_type": "markdown",
   "id": "48063a5c",
   "metadata": {},
   "source": [
    "You’ll also need some additional dependencies:"
   ]
  },
  {
   "cell_type": "code",
   "execution_count": null,
   "id": "95078612",
   "metadata": {},
   "outputs": [],
   "source": [
    "#!pip install transformers datasets soundfile speechbrain accelerate"
   ]
  },
  {
   "cell_type": "markdown",
   "id": "27b47fde",
   "metadata": {},
   "source": [
    "Finally, don’t forget to log in to your Hugging Face account so that you could upload and share your model with the community:"
   ]
  },
  {
   "cell_type": "code",
   "execution_count": null,
   "id": "6b65b8a4",
   "metadata": {},
   "outputs": [],
   "source": [
    "from huggingface_hub import notebook_login\n",
    "\n",
    "notebook_login()"
   ]
  }
 ],
 "metadata": {
  "kernelspec": {
   "display_name": "Python 3",
   "language": "python",
   "name": "python3"
  },
  "language_info": {
   "name": "python",
   "version": "3.9.6"
  }
 },
 "nbformat": 4,
 "nbformat_minor": 5
}
